{
  "nbformat": 4,
  "nbformat_minor": 0,
  "metadata": {
    "colab": {
      "name": "random_preset_generator.ipynb",
      "provenance": [],
      "collapsed_sections": [],
      "mount_file_id": "1eODvLjJnAZ_xhJqI8dplP_5zzFqc4UtL",
      "authorship_tag": "ABX9TyMTMXX2V/9u7Bpo0PwxGHNv",
      "include_colab_link": true
    },
    "kernelspec": {
      "name": "python3",
      "display_name": "Python 3"
    },
    "language_info": {
      "name": "python"
    }
  },
  "cells": [
    {
      "cell_type": "markdown",
      "metadata": {
        "id": "view-in-github",
        "colab_type": "text"
      },
      "source": [
        "<a href=\"https://colab.research.google.com/github/StephenTanksley/Python/blob/master/random_preset_generator.ipynb\" target=\"_parent\"><img src=\"https://colab.research.google.com/assets/colab-badge.svg\" alt=\"Open In Colab\"/></a>"
      ]
    },
    {
      "cell_type": "markdown",
      "metadata": {
        "id": "t5szlsbIcMBL"
      },
      "source": [
        "## **Random Preset Generator**\n",
        "\n",
        "To run RPG, move up to the Runtime menu and click \"Run All\".\n",
        "\n",
        "You have to run all cells the first time you use the utility.\n",
        "\n",
        "Every subsequent time, you should be able to just run the bottom cell by pressing the Play button on the left side of the cell.\n",
        "\n",
        "For synthesizer things, add the maximum number of oscillators you'll be using. You can do that in the cell which has minimum_oscillators and maximum\n",
        "\n",
        "To add a new set of articulations to be randomly generated, simply write: repeater(articulation_name, whole_number) to a new cell and press SHIFT + Enter.\n",
        "\n",
        "If you don't want a cell to run, preface the code you don't want to run with a \n",
        "comment symbol '#'.\n",
        "\n",
        "For example..."
      ]
    },
    {
      "cell_type": "code",
      "metadata": {
        "id": "V1wDXSpLNE2n"
      },
      "source": [
        "# runner('pad', 5)"
      ],
      "execution_count": null,
      "outputs": []
    },
    {
      "cell_type": "markdown",
      "metadata": {
        "id": "lCkC8i9kNH5g"
      },
      "source": [
        "The code in the cell above won't run because it has been commented out."
      ]
    },
    {
      "cell_type": "code",
      "metadata": {
        "id": "ZVuRh7fOYrMP"
      },
      "source": [
        "import typing\n",
        "from random import randint, choice"
      ],
      "execution_count": null,
      "outputs": []
    },
    {
      "cell_type": "code",
      "metadata": {
        "id": "f4IFlG8u8Zt8"
      },
      "source": [
        "# Input your own preferred maximum number of layers here.\n",
        "minimum_oscillators = 1\n",
        "maximum_oscillators = 4\n",
        "layers = 4"
      ],
      "execution_count": null,
      "outputs": []
    },
    {
      "cell_type": "code",
      "metadata": {
        "id": "KxcGOH9NZIuP"
      },
      "source": [
        "waves = [\n",
        "         'sine', 'square', 'saw', 'pulse', 'triangle'\n",
        "]\n",
        "\n",
        "articulations = {\n",
        "  'pad' : {\n",
        "    'attack': [250, 500],\n",
        "    'decay': [100, 1250],\n",
        "    'sustain': [100, 1250],\n",
        "    'release': [200, 2000]\n",
        "  },\n",
        "  'staccato' : {\n",
        "   'attack': [0, 80],\n",
        "   'decay': [0, 80],\n",
        "   'sustain': [0, 20],\n",
        "   'release': [0, 80]\n",
        "  }\n",
        "}"
      ],
      "execution_count": null,
      "outputs": []
    },
    {
      "cell_type": "markdown",
      "metadata": {
        "id": "NMa2nhZauwGj"
      },
      "source": [
        "Range Creator.\n",
        "\n",
        "Plug in a start and an end to create a range for the function.\n",
        "\n",
        "For now, everything operates in octaves and everything starts on C."
      ]
    },
    {
      "cell_type": "code",
      "metadata": {
        "id": "KME730WtsoQt"
      },
      "source": [
        "def range_creator(start: int, end: int) -> None:\n",
        "  notes = ['C', 'Db', 'D', 'Eb', 'E', 'F', 'Gb', 'G', 'Ab', 'A', 'Bb', 'B']\n",
        "  i = start\n",
        "  j = end\n",
        "  notes_list = []\n",
        "  while i < j:\n",
        "    for note in notes:\n",
        "      if f'{note}{i}' not in notes_list:\n",
        "        notes_list.append(f'{note}{i}')\n",
        "      else:\n",
        "        continue\n",
        "    i += 1\n",
        "\n",
        "  # print(notes_list)\n",
        "  print(f'{notes_list[0]} -- {notes_list[-1]}')"
      ],
      "execution_count": null,
      "outputs": []
    },
    {
      "cell_type": "code",
      "metadata": {
        "id": "TViYKx-ADEvH"
      },
      "source": [
        "# Define a function to configure oscillator settings for synths.\n",
        "def oscillator_config(\n",
        "    minimum: int = 1, maximum: int = 1\n",
        "    ) -> None:\n",
        "\n",
        "  osc_range = range(minimum, maximum + 1)\n",
        "\n",
        "  for i in osc_range:\n",
        "    osc_string = f'oscillator_{i}'\n",
        "    if osc_string not in preset:\n",
        "      preset[osc_string] = choice(waves)\n",
        "    continue"
      ],
      "execution_count": null,
      "outputs": []
    },
    {
      "cell_type": "code",
      "metadata": {
        "id": "OJ6VA0b0ZQ_W"
      },
      "source": [
        "# Define a dictionary to collect our generated presets.\n",
        "preset = {}\n",
        "\n",
        "def runner(\n",
        "    articulation: dict\n",
        "    ) -> None:\n",
        "\n",
        "  for attribute, value in articulations[articulation].items():\n",
        "    if attribute not in preset:\n",
        "      preset[attribute] = randint(value[0], value[1])\n",
        "    else:\n",
        "      continue"
      ],
      "execution_count": null,
      "outputs": []
    },
    {
      "cell_type": "code",
      "metadata": {
        "id": "BCASprx0bQhb"
      },
      "source": [
        "def repeater(\n",
        "    articulation: str, num_repeats: int, source: bool = False\n",
        "    ) -> None:\n",
        "\n",
        "  for i in range(0, num_repeats):\n",
        "    # Clear out the last results from preset.\n",
        "    if len(preset) > 0:\n",
        "      preset.clear()\n",
        "\n",
        "    # Add the new oscillator and runner configurations to preset.\n",
        "    if source:\n",
        "      oscillator_config(minimum_oscillators, maximum_oscillators)\n",
        "    runner(articulation)\n",
        "    \n",
        "    # return the results by way of printing them.\n",
        "    print(f\"{articulation.capitalize()} {i + 1}: \\n\")\n",
        "    for i, value in preset.items():\n",
        "      print(f' {i}: {value}')\n",
        "    print('\\n')"
      ],
      "execution_count": null,
      "outputs": []
    },
    {
      "cell_type": "code",
      "metadata": {
        "id": "qhN-21etJ7j5"
      },
      "source": [
        "synth_source = True"
      ],
      "execution_count": null,
      "outputs": []
    },
    {
      "cell_type": "code",
      "metadata": {
        "colab": {
          "base_uri": "https://localhost:8080/"
        },
        "id": "5fOPQQZZdnR_",
        "outputId": "a8f7446b-d532-4f5e-b96a-29685150c289"
      },
      "source": [
        "repeater('pad', 2, source=synth_source)"
      ],
      "execution_count": null,
      "outputs": [
        {
          "output_type": "stream",
          "name": "stdout",
          "text": [
            "Pad 1: \n",
            "\n",
            " oscillator_1: saw\n",
            " oscillator_2: sine\n",
            " oscillator_3: triangle\n",
            " oscillator_4: saw\n",
            " attack: 390\n",
            " decay: 899\n",
            " sustain: 798\n",
            " release: 1879\n",
            "\n",
            "\n",
            "Pad 2: \n",
            "\n",
            " oscillator_1: sine\n",
            " oscillator_2: saw\n",
            " oscillator_3: pulse\n",
            " oscillator_4: saw\n",
            " attack: 470\n",
            " decay: 1217\n",
            " sustain: 376\n",
            " release: 1755\n",
            "\n",
            "\n"
          ]
        }
      ]
    },
    {
      "cell_type": "code",
      "metadata": {
        "colab": {
          "base_uri": "https://localhost:8080/"
        },
        "id": "V6-9IptDwWEC",
        "outputId": "1bcf52f3-c07f-41ed-f214-f807664e019a"
      },
      "source": [
        "# In this cell, I omitted the 'source=synth_source' bit.\n",
        "# As a result, it defaulted to \"False\" and therefore\n",
        "# does not include randomization for oscillator settings.\n",
        "\n",
        "repeater('pad', 5)"
      ],
      "execution_count": null,
      "outputs": [
        {
          "output_type": "stream",
          "name": "stdout",
          "text": [
            "Pad 1: \n",
            "\n",
            " attack: 335\n",
            " decay: 928\n",
            " sustain: 428\n",
            " release: 751\n",
            "\n",
            "\n",
            "Pad 2: \n",
            "\n",
            " attack: 446\n",
            " decay: 293\n",
            " sustain: 492\n",
            " release: 1317\n",
            "\n",
            "\n",
            "Pad 3: \n",
            "\n",
            " attack: 457\n",
            " decay: 369\n",
            " sustain: 1176\n",
            " release: 482\n",
            "\n",
            "\n",
            "Pad 4: \n",
            "\n",
            " attack: 272\n",
            " decay: 1127\n",
            " sustain: 135\n",
            " release: 1846\n",
            "\n",
            "\n",
            "Pad 5: \n",
            "\n",
            " attack: 384\n",
            " decay: 656\n",
            " sustain: 1101\n",
            " release: 1332\n",
            "\n",
            "\n"
          ]
        }
      ]
    },
    {
      "cell_type": "code",
      "metadata": {
        "id": "u0xeD3PJoovl",
        "colab": {
          "base_uri": "https://localhost:8080/"
        },
        "outputId": "359d1587-b594-4547-b524-603d71d74612"
      },
      "source": [
        "repeater('pad', 4, source=synth_source) \n",
        "\n",
        "# 450 seems to be about the current limit before the notebook truncates lines\n",
        "# for readability."
      ],
      "execution_count": 13,
      "outputs": [
        {
          "output_type": "stream",
          "name": "stdout",
          "text": [
            "Pad 1: \n",
            "\n",
            " oscillator_1: triangle\n",
            " oscillator_2: triangle\n",
            " oscillator_3: triangle\n",
            " oscillator_4: sine\n",
            " attack: 483\n",
            " decay: 1228\n",
            " sustain: 1101\n",
            " release: 1288\n",
            "\n",
            "\n",
            "Pad 2: \n",
            "\n",
            " oscillator_1: pulse\n",
            " oscillator_2: triangle\n",
            " oscillator_3: pulse\n",
            " oscillator_4: saw\n",
            " attack: 471\n",
            " decay: 142\n",
            " sustain: 634\n",
            " release: 1797\n",
            "\n",
            "\n",
            "Pad 3: \n",
            "\n",
            " oscillator_1: triangle\n",
            " oscillator_2: saw\n",
            " oscillator_3: saw\n",
            " oscillator_4: sine\n",
            " attack: 441\n",
            " decay: 927\n",
            " sustain: 951\n",
            " release: 1178\n",
            "\n",
            "\n",
            "Pad 4: \n",
            "\n",
            " oscillator_1: saw\n",
            " oscillator_2: triangle\n",
            " oscillator_3: square\n",
            " oscillator_4: sine\n",
            " attack: 497\n",
            " decay: 1245\n",
            " sustain: 872\n",
            " release: 1981\n",
            "\n",
            "\n"
          ]
        }
      ]
    },
    {
      "cell_type": "code",
      "metadata": {
        "id": "3UvyXDZUEFP5"
      },
      "source": [
        ""
      ],
      "execution_count": null,
      "outputs": []
    }
  ]
}